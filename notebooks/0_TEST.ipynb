{
 "cells": [
  {
   "cell_type": "markdown",
   "metadata": {},
   "source": [
    "This notebook will test your system to check if Anaconda and Py-ART have been installed correctly.  Select the cell below and execute by hitting shift+enter.  If **Ready to go** is printed as the first line, everything is installed correctly.  If **ISSUES** is printed or you get an error, something is mis-configured with your system, ask one of the instructors for help."
   ]
  },
  {
   "cell_type": "code",
   "execution_count": null,
   "metadata": {
    "collapsed": false
   },
   "outputs": [],
   "source": [
    "import pyart\n",
    "\n",
    "if pyart.__version__ == \"1.5.0\":\n",
    "    if hasattr(pyart.graph, 'RadarMapDisplay'):\n",
    "        print \"Ready to go\"\n",
    "    else:\n",
    "        print \"ISSUES\\n\\nMissing\\Broken Basemap\\n\"\n",
    "        pyart._debug_info()\n",
    "else:\n",
    "    print \"ISSUES\\n\\nWrong Py-ART version\\n\"\n",
    "    pyart._debug_info()"
   ]
  }
 ],
 "metadata": {
  "kernelspec": {
   "display_name": "Python 2",
   "language": "python",
   "name": "python2"
  },
  "language_info": {
   "codemirror_mode": {
    "name": "ipython",
    "version": 2
   },
   "file_extension": ".py",
   "mimetype": "text/x-python",
   "name": "python",
   "nbconvert_exporter": "python",
   "pygments_lexer": "ipython2",
   "version": "2.7.10"
  }
 },
 "nbformat": 4,
 "nbformat_minor": 0
}
